{
 "cells": [
  {
   "cell_type": "code",
   "execution_count": 1,
   "id": "dccb0252",
   "metadata": {},
   "outputs": [],
   "source": [
    "##Cells labeled \"from github\" were obtained from \"https://github.com/EncinasBartos/TBarrier\"\n",
    "\n",
    "\n",
    "from matplotlib import pyplot as plt\n",
    "import pandas as pd\n",
    "import netCDF4\n",
    "from scipy.io import savemat\n",
    "import scipy.io as sio\n",
    "import numpy as np\n",
    "from tqdm.notebook import tqdm"
   ]
  },
  {
   "cell_type": "code",
   "execution_count": 2,
   "id": "2a9c7b20",
   "metadata": {},
   "outputs": [],
   "source": []
  },
  {
   "cell_type": "code",
   "execution_count": 3,
   "id": "2de77d12",
   "metadata": {},
   "outputs": [],
   "source": [
    "## from github\n",
    "\n",
    "\n",
    "def convert_meters_per_second_to_deg_per_day(X, Y, U_ms, V_ms):\n",
    "    \n",
    "    '''\n",
    "    Converts units of velocity from m/s to deg/day. The units of the velocity field must \n",
    "    match the units of the grid coordinates and time.\n",
    "    \n",
    "    Parameters:\n",
    "        X:       array(Ny, Nx), X-meshgrid.\n",
    "        Y:       array(Ny, Nx), Y-meshgrid.\n",
    "        U_ms:    array(Ny, Nx, Nt), x-component of velocity field in m/s\n",
    "        V_ms:    array(Ny, Nx, Nt), y-component of velocity field in m/s\n",
    "         \n",
    "    Returns:\n",
    "        U_degday:    array(Ny, Nx, Nt), x-component of velocity field in deg/day\n",
    "        V_degday:    array(Ny, Nx, Nt), y-component of velocity field in deg/day\n",
    "    '''\n",
    "    \n",
    "# import numpy\n",
    "\n",
    "    import numpy as np\n",
    "    # import math tools\n",
    "    from math import cos, pi\n",
    "    \n",
    "    # Velocity field\n",
    "    U_degday, V_degday = np.nan*U_ms.copy(), np.nan*V_ms.copy()\n",
    "    \n",
    "    # Radius of the earth\n",
    "    earthRadius = 6371*(10**3)\n",
    "    \n",
    "    # Iterate over grid\n",
    "    for i in tqdm(range(X.shape[0]),desc = 'converting units'):\n",
    "        for j in range(Y.shape[1]):\n",
    "            arg_cos = Y[i,j]*(pi/180)\n",
    "            if Y[i,j] >85:\n",
    "                U_degday[i,j,:] = 0\n",
    "                V_degday[i,j,:] = 0\n",
    "            else:                    \n",
    "                U_degday[i, j, :] = (U_ms[i, j, :] / (cos(arg_cos)*(earthRadius)))*180*3600*24/pi\n",
    "            V_degday[i, j, :] = (V_ms[i, j, :] / earthRadius)*180*3600*24/pi\n",
    "            if U_ms[i,j,0] > 10**10:\n",
    "                U_degday[i,j,:]= 0\n",
    "                V_degday[i,j,:]= 0\n",
    "        \n",
    "    return U_degday, V_degday"
   ]
  },
  {
   "cell_type": "code",
   "execution_count": 4,
   "id": "c835f276",
   "metadata": {},
   "outputs": [
    {
     "data": {
      "application/vnd.jupyter.widget-view+json": {
       "model_id": "6227af210fa64097b159a78341edbcd7",
       "version_major": 2,
       "version_minor": 0
      },
      "text/plain": [
       "converting units:   0%|          | 0/121 [00:00<?, ?it/s]"
      ]
     },
     "metadata": {},
     "output_type": "display_data"
    },
    {
     "name": "stdout",
     "output_type": "stream",
     "text": [
      "done\n"
     ]
    }
   ],
   "source": [
    "##main\n",
    "##download .NC file, extract data, convert units and read into \"AVISO.mat\"\n",
    "\n",
    "##path in PC\n",
    "path0 = \"C:/Mario/TBarrier/TBarrier/Untitled Folder/\"\n",
    "\n",
    "##names of download files:\n",
    "#download_file = \"cmems_mod_glo_phy-cur_anfc_0.083deg_P1D-m_1676300217765.nc\"  ## 21 days, 1 day interval \n",
    "#download_file = \"cmems_mod_glo_phy-cur_anfc_0.083deg_PT6H-i_1676727285735.nc\"    ##21 days, 6h intervals\n",
    "#download_file = \"cmems_mod_glo_phy-cur_anfc_0.083deg_PT6H-i_1679668384053.nc\"    ##7 days, 6h intervals\n",
    "#download_file = \"cmems_mod_glo_phy-cur_anfc_0.083deg_PT6H-i_1679668580982.nc\"   ##14 days, 6h intervals\n",
    "#download_file = \"cmems_mod_glo_phy-cur_anfc_0.083deg_PT6H-i_1679668816882.nc\"  ##28 days, 6h intervals\n",
    "#download_file = \"cmems_mod_glo_phy-cur_anfc_0.083deg_PT6H-i_1683123882852.nc\" ##21 days, 6 hours intervals, zoomed 1\n",
    "#download_file = \"cmems_mod_glo_phy-cur_anfc_0.083deg_PT6H-i_1683124027239.nc\" ##21 days, 6 hours intervals, zoomed 2\n",
    "#download_file = \"cmems_mod_glo_phy-cur_anfc_0.083deg_PT6H-i_1683124174448.nc\" ##21 days, 6 hours intervals, zoomed 3\n",
    "download_file = \"cmems_mod_glo_phy-cur_anfc_0.083deg_PT6H-i_1683124226176.nc\" ##21 days, 6 hours intervals, zoomed 4\n",
    "\n",
    "##path of dowload file\n",
    "file_location = '%sLAVD/%s' % (path0, download_file)\n",
    "data_raw = netCDF4.Dataset(file_location)\n",
    "\n",
    "##extract data\n",
    "U_ms = np.array(data_raw['uo'])\n",
    "V_ms = np.array(data_raw['vo'])\n",
    "x = data_raw['longitude'][:]\n",
    "y = data_raw['latitude'][:]\n",
    "t = data_raw['time'][:]/24-data_raw['time'][0]/24\n",
    "X, Y = np.meshgrid(x, y)\n",
    "\n",
    "U_ms = np.swapaxes(U_ms,0,2)\n",
    "U_ms = np.swapaxes(U_ms,1,3)\n",
    "V_ms = np.swapaxes(V_ms,0,2)\n",
    "V_ms = np.swapaxes(V_ms,1,3)\n",
    "\n",
    "##convert units\n",
    "u, v = convert_meters_per_second_to_deg_per_day(X, Y, U_ms, V_ms) \n",
    "\n",
    "##read data into \"AVISO.mat\"\n",
    "data = {'u': u, 'v': v, 'x': X, 'y': Y, 't': t}\n",
    "savemat(\"AVISO.mat\", data)\n",
    "mat = sio.loadmat('AVISO.mat')\n",
    "\n",
    "print(\"done\")"
   ]
  },
  {
   "cell_type": "code",
   "execution_count": null,
   "id": "56d1dca0",
   "metadata": {},
   "outputs": [],
   "source": []
  }
 ],
 "metadata": {
  "kernelspec": {
   "display_name": "Python 3",
   "language": "python",
   "name": "python3"
  },
  "language_info": {
   "codemirror_mode": {
    "name": "ipython",
    "version": 3
   },
   "file_extension": ".py",
   "mimetype": "text/x-python",
   "name": "python",
   "nbconvert_exporter": "python",
   "pygments_lexer": "ipython3",
   "version": "3.7.16"
  }
 },
 "nbformat": 4,
 "nbformat_minor": 5
}
